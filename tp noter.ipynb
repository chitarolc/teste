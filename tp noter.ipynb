{
 "cells": [
  {
   "cell_type": "markdown",
   "id": "fd6575b5",
   "metadata": {},
   "source": [
    "# TP noté sur la cryptographie"
   ]
  },
  {
   "cell_type": "markdown",
   "id": "f96f8aca",
   "metadata": {},
   "source": [
    "**A rendre** Une version pdf ou html de ce document complété devra être déposé sur Arche"
   ]
  },
  {
   "cell_type": "markdown",
   "id": "71a4b0b8",
   "metadata": {},
   "source": [
    "--- "
   ]
  },
  {
   "cell_type": "markdown",
   "id": "9aa6d5c3",
   "metadata": {},
   "source": [
    "## Utilisation de Jupyter Notebook\n",
    "\n",
    "Le principe est simple : \n",
    " - Chaque notebook est constitué d’une liste de **cellules**\n",
    " - Chacune peut contenir du **texte formaté** ou du **code** (Python, dans notre cas)\n",
    " - On **exécute** une cellule de code -> le résultat s’affiche sous la cellule\n",
    "\n",
    "Cliquez sur le menu **Help** > **User Interface Tour** pour un tour rapide de l’interface.    \n",
    "\n",
    "Pour vous entraîner :\n",
    "- **Insérez** quelques cellules de code au début du notebook\n",
    "- Exécutez quelques commandes Python, telles que **print(\"Hello world!\")** :\n",
    "    - Cliquez dans une cellule de code et saisissez le code à exécuter\n",
    "    - Exécutez le code de la cellule en tapant Shift-Entrée ou en cliquant sur le bouton d’exécution\n",
    "    \n",
    "Lorsque vous **cliquez** à l’intérieur d’une cellule, vous passez en mode **édition** (la cellule est alors encadrée en *vert*). Lorsque vous tapez la **touche Echap** (Esc) ou que vous cliquez juste à gauche de la cellule, vous passez en mode **commande** (la cellule est alors encadrée en *bleu*). \n",
    "\n",
    "Lorsque vous êtes en **mode commande**, tapez la **touche H** pour afficher les nombreux **raccourcis clavier** disponibles"
   ]
  },
  {
   "cell_type": "markdown",
   "id": "e33c6295",
   "metadata": {},
   "source": [
    "--- "
   ]
  },
  {
   "cell_type": "markdown",
   "id": "2eee728d",
   "metadata": {},
   "source": [
    "## Partie 1 - Cryptographie et Chiffrement avec Gnu Privacy Guard (GnuPG)\n",
    "\n",
    "**GnuPG** est un outil qui permet de chiffrer, déchiffrer et signer des messages en utilisant les algorithmes de chiffrements symétriques ou asymétriques.\n",
    "\n",
    "Assurez vous que **GnuPG** soit bien installé sur votre système. Vous pouvez vérifier cela en tapant dans un terminal :\n",
    "\n",
    "```\n",
    "gpg --version\n",
    "```\n",
    "\n",
    "Un certain nombre d'algorithmes de chiffrement et de hashage sont pris en charge par **GnuPG**. Cette commande permet aussi de voir lesquelles sont supportés par votre version.\n",
    "\n",
    "Il est très important d'avoir le réflexe de consulter le manuel avec la commande suivante :\n",
    "\n",
    "```\n",
    "man gpg\n",
    "```\n",
    "\n",
    "Comme pour la plupart des logiciels sous GNU/Linux, la commande man suivi du nom de la commande permet d'avoir beaucoup d'information. Pour fouiller rapidement une page de manuel à la recherche d'un mot clé particulier (par exemple `--sign`) tapez le caractère `/` suivi du texte à chercher puis appuyez sur entrée. Des appuis successifs sur la touche `n` (comme next) permet de sauter d'une occurrence à une autre.\n",
    "\n",
    "Durant ce TP, nous aurons besoin d'envoyer et de recevoir un certain nombre de message entre machines. Pour cela, nous utiliserons l'outil netcat qui permet de faire cela très simplement."
   ]
  },
  {
   "cell_type": "markdown",
   "id": "55c890ee",
   "metadata": {},
   "source": [
    "## Exercice 1.a\n",
    "\n",
    "Essayez d'envoyer un message à un camarade :\n",
    "- échangez vous vos adresses IP\n",
    "- utilisez netcat pour écouter sur le port TCP 9999 (pour recevoir des messages)\n",
    "- utilisez netcat pour vous connecter à un autre machine de la salle et envoyer un message\n",
    "\n",
    "Répétez l'opération mais en échangeant cette fois des fichiers !"
   ]
  },
  {
   "cell_type": "markdown",
   "id": "00bf38de",
   "metadata": {},
   "source": [
    "__Question 1__ : \n",
    "\n",
    "Ajouter des copies d'écrans avec:\n",
    "```![](chemin_vers_image)```"
   ]
  },
  {
   "attachments": {},
   "cell_type": "markdown",
   "id": "95a9293d",
   "metadata": {},
   "source": [
    "__Réponse__ :\n",
    "\n",
    "![](chemin/monImage.png)\n",
    "![](/home/baland12u/Images/cap1.png)"
   ]
  },
  {
   "cell_type": "markdown",
   "id": "032cf658",
   "metadata": {},
   "source": [
    "__Question 2__ : \n",
    "\n",
    "Serait il possible pour un attaquant de voir les données transmises ? Comment ?"
   ]
  },
  {
   "attachments": {},
   "cell_type": "markdown",
   "id": "a639f7b6",
   "metadata": {},
   "source": [
    "__Réponse__ :\n",
    "\n",
    "*oui il serait possible qu'un attackant puisse les voir car elle ne sont pas chiffré mais je ne vois pas comment un attackant pourrait récuperer le message même chiffrer vue qu'on l'envoi a une adresse ip précise est que chaque machine a sa propre IP *"
   ]
  },
  {
   "cell_type": "markdown",
   "id": "e33c6295",
   "metadata": {},
   "source": [
    "--- "
   ]
  },
  {
   "cell_type": "markdown",
   "id": "6fe3741b",
   "metadata": {},
   "source": [
    "## Partie 2 - Chiffrement Symétrique"
   ]
  },
  {
   "cell_type": "markdown",
   "id": "9028d3f9",
   "metadata": {},
   "source": [
    "### Du texte clair au texte chiffré"
   ]
  },
  {
   "cell_type": "markdown",
   "id": "4d3e9125",
   "metadata": {},
   "source": [
    "Nous allons chiffrer un message avec un algorithme de chiffrement symétrique. Écrivez quelque chose dans un fichier et enregistrez le. Nous appellerons ce fichier `fichier.txt-.\n",
    "\n",
    "Pour chiffrer un fichier avec un algorithme à clé symétrique nous avons besoin de décider deux choses :\n",
    "- d'un mot de passe à partir duquel sera généré la clé symétrique\n",
    "- d'un algorithme de chiffrement (exemple : AES256)\n",
    "\n",
    "La commande suivante permet de chiffrer le fichier :\n",
    "```\n",
    "gpg --symmetric fichier.txt\n",
    "```\n",
    "\n",
    "Le fichier chiffré est enregistré sous le nom de fichier.txt.gpg. On peut choisir le nom du fichier chiffré avec le paramètre `--output`.\n",
    "\n",
    "Si aucun fichier d'entrée n'est donné en paramètre, gpg va chiffrer ce qui arrive sur l'entrée standard. On peut donc arriver au même résultat avec la commande suivante :\n",
    "\n",
    "```\n",
    "cat fichier.txt | gpg --symmetric --output fichier.encrypted\n",
    "```\n",
    "\n",
    "`cat` est une commande qui affiche sur la sortie standard le contenu d'un fichier, « `|` » (qu'on appelle pipe) permet de connecter la sortie standard sur une entrée standard). On peut directement écrire notre message en ligne de commande sans l'enregistrer préalablement dans un fichier :\n",
    "```\n",
    "echo \"petit message\" | gpg --symmetric --output fichier.encrypted\n",
    "```"
   ]
  },
  {
   "cell_type": "markdown",
   "id": "8a7197f7",
   "metadata": {},
   "source": [
    "__Question 1 :__\n",
    "    \n",
    "Quel algorithme de chiffrement est utilisé par défaut ?"
   ]
  },
  {
   "attachments": {},
   "cell_type": "markdown",
   "id": "3965714b",
   "metadata": {},
   "source": [
    "__Réponse :__\n",
    "    \n",
    "*l'algorithme de chiffrement utilisé par default et l'algo de RSA qui utilise une clef de chiffrement*"
   ]
  },
  {
   "cell_type": "markdown",
   "id": "f7c169e4",
   "metadata": {},
   "source": [
    "Il est possible de choisir son propre algorithme avec le paramètre `--cipher-algo`. Rechiffrez votre message avec un algorithme de votre choix.\n",
    "\n",
    "GnuPG peut également adapter sa sortie de sorte que le message chiffré soit une suite de caractère ASCII (on appelle cela le base64) facilement copiable. Pour cela, il suffit d'ajouter le paramètre `-- armo` de la façon suivante :\n",
    "\n",
    "```\n",
    "echo \"ceci est un message secret\" | gpg --symmetric --cipher-algo AES256\n",
    "--armor\n",
    "```\n",
    "\n",
    "donne :\n",
    "\n",
    "```\n",
    "\n",
    "-----END PGP MESSAGE-----\n",
    "```\n",
    "Ce message peut être facilement copié dans un mail, un forum ou même un chat.\n"
   ]
  },
  {
   "cell_type": "markdown",
   "id": "c645c82a",
   "metadata": {},
   "source": [
    "### Du texte chiffré au texte clair"
   ]
  },
  {
   "cell_type": "markdown",
   "id": "fe0154cd",
   "metadata": {},
   "source": [
    "Pour déchiffrer un message chiffré, il suffit d'utiliser le paramètre--decrypt (ou -d) qui vient remplacer --symmetric (ou -c). Exemple avec un fichier chiffré nommé secret.txt :"
   ]
  },
  {
   "cell_type": "markdown",
   "id": "96799737",
   "metadata": {},
   "source": [
    "__Question 2 :__\n",
    "\n",
    "Pourquoi n'avons nous pas besoin de préciser l'algorithme de chiffrement utilisé ?"
   ]
  },
  {
   "attachments": {},
   "cell_type": "markdown",
   "id": "e8e864ba",
   "metadata": {},
   "source": [
    "__Réponse :__\n",
    "    \n",
    "*vue que c'est un algo de chiffrement symétrique a partir du moment on a la clef on peut déchiffrer le message *"
   ]
  },
  {
   "cell_type": "markdown",
   "id": "3b905079",
   "metadata": {},
   "source": [
    "Chiffrez deux messages différents avec deux clés différentes mais avec le même algorithme de chiffrement et avec le mode armor, comparez les deux textes chiffrés.\n"
   ]
  },
  {
   "cell_type": "markdown",
   "id": "eb2bef66",
   "metadata": {},
   "source": [
    "__Question 3 :__\n",
    "\n",
    "Est ce que cela confirme ce que vous pensiez à la question 2 ?"
   ]
  },
  {
   "attachments": {},
   "cell_type": "markdown",
   "id": "995a144d",
   "metadata": {},
   "source": [
    "__Réponse :__\n",
    "    \n",
    "*la structure des deux message chiffrer est identique  même si le continue est différent*"
   ]
  },
  {
   "cell_type": "markdown",
   "id": "5b9b0363",
   "metadata": {},
   "source": [
    "Envoyez un message chiffré à un autre groupe de la salle et arrangez vous pour lui faire parvenir le mot de passe. ATTENTION ! N'utilisez pas netcat pour partager le secret ! Et gare aux oreilles !\n",
    "\n",
    "- Déchiffrez les messages que vous avez reçus"
   ]
  },
  {
   "cell_type": "markdown",
   "id": "1832fa4f",
   "metadata": {},
   "source": [
    "__Question 4 :__\n",
    "\n",
    "Quelle méthode avez vous choisie pour échanger la clé de chiffrement ?"
   ]
  },
  {
   "attachments": {},
   "cell_type": "markdown",
   "id": "2d18cf3a",
   "metadata": {},
   "source": [
    "__Réponse :__\n",
    "    \n",
    "* a l'oral en disant une clef a glisser dans un phrase qui est simple a retenir comme tata,toto E.T.C*"
   ]
  },
  {
   "cell_type": "markdown",
   "id": "8472583f",
   "metadata": {},
   "source": [
    "```\n",
    "gpg --decrypt secret.txt\n",
    "```\n",
    "\n",
    "*gpg*: données chiffrées avec AES256\n",
    "*gpg*: chiffré avec 1 phrase de passe\n",
    "*ceci est un message secret*"
   ]
  },
  {
   "cell_type": "markdown",
   "id": "2335c72a",
   "metadata": {},
   "source": [
    " __Question 5 :__\n",
    "        \n",
    "Pourquoi ne faut il pas envoyer le secret à travers le même canal de communication que\n",
    " les données chiffrées ?"
   ]
  },
  {
   "attachments": {},
   "cell_type": "markdown",
   "id": "93b4a8f8",
   "metadata": {},
   "source": [
    "__Réponse :__\n",
    "    \n",
    "*car un attackant pourrait récuperer les information dont la clef de chiffrement alors le chiffrement des messages ne servirais plus a rien*"
   ]
  },
  {
   "cell_type": "markdown",
   "id": "e33c6295",
   "metadata": {},
   "source": [
    "--- "
   ]
  },
  {
   "cell_type": "markdown",
   "id": "6fe3741b",
   "metadata": {},
   "source": [
    "## Partie 3 - Chiffrement Asymétrique"
   ]
  },
  {
   "cell_type": "markdown",
   "id": "a2ecd1df",
   "metadata": {},
   "source": [
    "### Questions préliminaires"
   ]
  },
  {
   "cell_type": "markdown",
   "id": "905d8942",
   "metadata": {},
   "source": [
    "__Question 6 :__\n",
    "\n",
    "Quel est l'avantage du chiffrement à clé publique (asymétrique) par rapport au chiffrement à secret partagé (symétrique) ?"
   ]
  },
  {
   "attachments": {},
   "cell_type": "markdown",
   "id": "f80ed39f",
   "metadata": {},
   "source": [
    "__Réponse :__\n",
    "    \n",
    "*on peut envoyer  la clef que notre interlocuteur devra utiliser pour chiffrer sont code car il n'y que nous qui avons la clef de déchiffrement cela permet de s'échanger depuis la méthodes de communication *"
   ]
  },
  {
   "cell_type": "markdown",
   "id": "b2f3ed1b",
   "metadata": {},
   "source": [
    "__Question 7 :__\n",
    "\n",
    "Quel est son inconvénient ?"
   ]
  },
  {
   "attachments": {},
   "cell_type": "markdown",
   "id": "584573c0",
   "metadata": {},
   "source": [
    "__Réponse :__\n",
    "    \n",
    "*on doit envoyer au pralable la clef de chiffrement a notre interlocuteur avant qu'il nous envoie un fichier  et cela force a utiliser 4 clef (2 par individu) au lieu de une seul, il est aussi plus difficile a comprendre et a  utiliser  *"
   ]
  },
  {
   "cell_type": "markdown",
   "id": "a65b8b76",
   "metadata": {},
   "source": [
    "### Création des paires de clés"
   ]
  },
  {
   "cell_type": "markdown",
   "id": "2819c3a7",
   "metadata": {},
   "source": [
    "Pour chiffrer des messages avec un algorithme à clé publique (chiffrement asymétrique) il faut d'abord posséder une paire de clé publique/clé privée qui est propre à chaque individu (rien n'empêche d'en avoir plusieurs évidemment). Pour cela on utilise la commande intéractive `gpg --gen-key` qui va construire une identité et la paire de clé correspondante.\n",
    "\n",
    "```\n",
    "gpg --gen-key\n",
    "```\n",
    "\n",
    "`\n",
    "Répondez aux questions de la façon suivante : \n",
    "- Types de clé : RSA et RSA (par défaut) \n",
    "- Taille de la clé : 2048\n",
    "- Nom Réel : votre nom et prénom\n",
    "- Adresse email :\n",
    "\n",
    "Un mot de passe vous sera demandé pour générer la paire de clé publique/privée. Choisissez un mot de passe robuste que vous utiliserez durant tout le TP.\n",
    "\n",
    "Validez, la paire de clé va être générée et cela peut prendre un peu de temps. Vous pouvez accélérer cette étape en lançant une commande qui va augmenter l'entropie du système comme par exemple :\n",
    "\n",
    "```\n",
    "find /\n",
    "```\n",
    "\n",
    "Une fois l'étape terminé vous devriez voir quelque chose comme ceci :\n",
    "\n",
    "\n",
    "\n",
    "\n",
    "\n",
    "\n",
    "\n",
    "\n",
    "\n",
    "\n",
    "\n",
    "\n",
    "\n",
    "\n",
    "\n",
    "\n",
    "\n",
    "\n",
    "\n",
    "\n",
    "Vous pouvez lister et éditer les clés présente avec les paramètre `--list-key`` `\n",
    "\n",
    "```\n",
    "gpg --list-key\n",
    "```\n",
    "\n",
    "On peut également éditer (modifier) sa clé avec le paramètre `--edit-ke` :\n",
    "\n",
    "```\n",
    "gpg --edit-key un_nom\n",
    "```\n",
    "\n",
    "Sachant que : utilisation: `S` pour *Signature*, `E` pour *Encryption*, `A` pour *Authentification*\n",
    "\n",
    "sec &rArr; 'SECret key'\n",
    "\n",
    "ssb &rArr; 'Secret SuBkey' \n",
    "\n",
    "pub &rArr; 'PUBlic key' \n",
    "\n",
    "sub &rArr; 'public SUBkey'\n"
   ]
  },
  {
   "cell_type": "markdown",
   "id": "42489f9b",
   "metadata": {},
   "source": [
    "__Question 8 :__\n",
    "    \n",
    "Quel est l'ID de votre clé ?"
   ]
  },
  {
   "attachments": {},
   "cell_type": "markdown",
   "id": "ba7a526a",
   "metadata": {},
   "source": [
    "__Réponse :__\n",
    "    \n",
    "*l'id de ma clef générer est :B2F09D817B293204*\n",
    "![](/home/baland12u/Images/cap2.png)"
   ]
  },
  {
   "cell_type": "markdown",
   "id": "af9d9633",
   "metadata": {},
   "source": [
    "Si vous perdez votre clé, ou votre mot de passe, ou que l'on vous vole votre ordinateur personnel, il est primordial de prévenir vos contacts de ne plus utiliser votre clé publique. Cela se fait au travers d'un certificat de révocation que l'on crée de la manière suivante :\n",
    "\n",
    "```\n",
    "gpg --output revoke.txt --gen-revoke <UID>\n",
    "```"
   ]
  },
  {
   "cell_type": "markdown",
   "id": "18fc599b",
   "metadata": {},
   "source": [
    "__Question 9 :__\n",
    "\n",
    "Générez un certificat de révocation pour votre clé. Comment et où le stockez vous ?"
   ]
  },
  {
   "attachments": {},
   "cell_type": "markdown",
   "id": "16faf7ec",
   "metadata": {},
   "source": [
    "__Réponse :__\n",
    "    \n",
    "*une fois la commande taper on rentre nos information ainsi que la clef a révoquer une fois que tout a était valider le teminal creer un fichier nomer revoke.txt qui contient toute les information de la revokation, il est creer dans les dossier personnels*\n",
    "![](/home/baland12u/Images/cap3.png)"
   ]
  },
  {
   "cell_type": "markdown",
   "id": "2a75e4df",
   "metadata": {},
   "source": [
    "Afin de révoquez une clé, il faut importer le certificat de révocation avec le paramètre `--import` (ne tapez pas cette commande sinon vous révoqueriez votre clé) :\n",
    "\n",
    "```\n",
    "gpg --import revoke.txt\n",
    "```"
   ]
  },
  {
   "cell_type": "markdown",
   "id": "9f978acd",
   "metadata": {},
   "source": [
    "### Exporter et Importer une clé publique"
   ]
  },
  {
   "cell_type": "markdown",
   "id": "f7394181",
   "metadata": {},
   "source": [
    "Pour pouvoir chiffrer un message, il faut se procurer la clé publique du destinataire du message. Inversement, pour recevoir un message chiffré il faut que l'expéditeur se soit procuré votre clé publique. Pour cela on peut utiliser gpg avec le paramètre –export pour obtenir sa clé publique. Afin de pouvoir facilement partager cette clé publique, vous pouvez également ajouter l'option `--armor` (ou `-a`) de la façon suivante :\n",
    "\n",
    "```\n",
    "gpg -a --export votre_adresse_mel\n",
    "```\n",
    "\n",
    "De la même façon, vous pouvez importer une clé publique, c'est à dire l'ajouter à votre trousseau, avec le paramètre --import suivi du nom du fichier contenant la clé publique.\n"
   ]
  },
  {
   "cell_type": "markdown",
   "id": "d36840e1",
   "metadata": {},
   "source": [
    "__Question 10 :__\n",
    "\n",
    "Quelle mesure doit on absolument prendre avant d'importer une clé publique ?"
   ]
  },
  {
   "attachments": {},
   "cell_type": "markdown",
   "id": "2b1b8a98",
   "metadata": {},
   "source": [
    "__Réponse :__\n",
    "    \n",
    "*vérifier la source de la clef est le programme de la clef*\n",
    "![](/home/baland12u/Images/cap4.png)"
   ]
  },
  {
   "cell_type": "markdown",
   "id": "02e659fd",
   "metadata": {},
   "source": [
    "Vous pouvez obtenir le fingerprint d'une de vos clé publiques ou d'une clé publique déjà importée de la façon suivante :\n",
    "\n",
    "```\n",
    "gpg --fingerprint une_adresse_mel\n",
    "```\n",
    "\n",
    "Les clés peuvent être distribuées directement via des annuaires. Cela permet de simplifier le processus d'exportation et d'importation. Il existe plusieurs sites permettant de stocker les clés publiques comme (keys.openpgp.org)[keys.openpgp.org]\n",
    "\n",
    "Généralement ces sites synchronisent régulièrement leurs bases de données.\n",
    "\n",
    "Vous pouvez rechercher des clés sur un annuaire de la façon suivante :\n",
    "\n",
    "```\n",
    "gpg --keyserver hkps://keys.openpgp.org –search abourjij@gmail.com\n",
    "```\n",
    "\n",
    "Vous pouvez rechercher des clés sur ces annuaires de la façon suivante :\n",
    "\n",
    "```\n",
    "gpg --keyserver pgp.mit.edu --refresh-keys\n",
    "```\n",
    "\n",
    "À l'avenir, vous pourrez publier votre clé publique sur un annuaire. Ne le faites pas lors des exercices et si vous n'êtes pas au courant des risques! Mais si vous voulez le faire, faites le avec la commande suivante :\n",
    "\n",
    "```\n",
    "gpg --keyserve hkps://keys.openpgp.org –send-key une_clef\n",
    "```"
   ]
  },
  {
   "cell_type": "markdown",
   "id": "0f720c81",
   "metadata": {},
   "source": [
    "__Question 11 :__\n",
    "\n",
    "Quel(s) avantage(s) voyez vous à l'utilisation d'annuaires ?"
   ]
  },
  {
   "attachments": {},
   "cell_type": "markdown",
   "id": "a0810fc2",
   "metadata": {},
   "source": [
    "__Réponse :__\n",
    "    \n",
    "*vous pouvez rechercher la clef public de quelqu'un pour pouvoir lui ennvoyer des messages en toutes sécuriter*"
   ]
  },
  {
   "cell_type": "markdown",
   "id": "495083e5",
   "metadata": {},
   "source": [
    "__Question 12 :__\n",
    "\n",
    "Quel(s) inconvénient(s) voyez vous à l'utilisation d'annuaires ?"
   ]
  },
  {
   "attachments": {},
   "cell_type": "markdown",
   "id": "feea5a9f",
   "metadata": {},
   "source": [
    "__Réponse :__\n",
    "    \n",
    "*le faite que n'importe qui puisse voir recuper ma clef public et chercher un moyen de trouver la clef de déchiffrement*"
   ]
  },
  {
   "cell_type": "markdown",
   "id": "c42f5efa",
   "metadata": {},
   "source": [
    "### Chiffrer un message"
   ]
  },
  {
   "cell_type": "markdown",
   "id": "96e6a1ab",
   "metadata": {},
   "source": [
    "Lorsque vous possédez la clé publique d'un destinataire, vous pouvez chiffrer un message avec le paramètre `--encrypt` (ou `-e`). Comme pour le chiffrement symétrique, vous pouvez également ajouter les paramètres `--armor` et/ou `--output`\n",
    "\n",
    "```\n",
    " echo message clair | gpg -a --encrypt -r abourjij@gmail.com\n",
    "```"
   ]
  },
  {
   "cell_type": "markdown",
   "id": "f3304c76",
   "metadata": {},
   "source": [
    "__Question 13:__\n",
    "\n",
    "à quoi sert le paramètre `-r` ?"
   ]
  },
  {
   "attachments": {},
   "cell_type": "markdown",
   "id": "e995c83b",
   "metadata": {},
   "source": [
    "__Réponse :__\n",
    "    \n",
    "*l'option -r sert a chiffrer l'id utilisateur*"
   ]
  },
  {
   "cell_type": "markdown",
   "id": "e6e6b244",
   "metadata": {},
   "source": [
    "__Question 14 :__\n",
    "\n",
    "**gpg** ne vous a pas demandé avec quel clé il fallait le déchiffrer, d'après vous pourquoi ?"
   ]
  },
  {
   "attachments": {},
   "cell_type": "markdown",
   "id": "64c19dac",
   "metadata": {},
   "source": [
    "__Réponse :__\n",
    "    \n",
    "*il utilise celle qu'on a deja creer ou si on en a pas creer une par defaut*"
   ]
  },
  {
   "cell_type": "markdown",
   "id": "de44471e",
   "metadata": {},
   "source": [
    "__Question 15 :__\n",
    "\n",
    "Échangez votre clé publique avec un autre groupe de la salle\n",
    "\n",
    "- Envoyez un (ou plusieurs) message(s) chiffrés\n",
    "- Déchiffrez le (ou les) message(s) que vous avez reçus\n"
   ]
  },
  {
   "attachments": {},
   "cell_type": "markdown",
   "id": "32626bcc",
   "metadata": {},
   "source": [
    "__Réponse :__\n",
    "    \n",
    "![](/home/baland12u/Images/cap6.png)"
   ]
  },
  {
   "cell_type": "markdown",
   "id": "acd1dc67",
   "metadata": {},
   "source": [
    " __Question 16 :__ Contrairement au chiffrement symmétrique, pourquoi n'y a-t-il cette fois aucun risque à envoyer votre clé publique par un canal de communication non sécurisé ?"
   ]
  },
  {
   "attachments": {},
   "cell_type": "markdown",
   "id": "a3d40b89",
   "metadata": {},
   "source": [
    "__Réponse :__\n",
    "    \n",
    "*car la clef public sert a crypter mais elle ne sert pas a décrypté donc il y a trés peux de chance que quelqu'un arrive a decrypter vos message sans votre clef pirver*"
   ]
  },
  {
   "cell_type": "markdown",
   "id": "e33c6295",
   "metadata": {},
   "source": [
    "--- "
   ]
  },
  {
   "cell_type": "markdown",
   "id": "6fe3741b",
   "metadata": {},
   "source": [
    "## Partie 4 - Stockage des mots de passes"
   ]
  },
  {
   "cell_type": "markdown",
   "id": "d58afdd2",
   "metadata": {},
   "source": [
    "### 1. Fonction de hashage"
   ]
  },
  {
   "cell_type": "markdown",
   "id": "06d7b2a0",
   "metadata": {},
   "source": [
    "\n",
    "Vos mots de passe pour vous connecter à votre compte univ-lorraine ou tout autre service necessitant une authentification ne sont normalement pas stockés directement dans un fichier. Le risque de fuite serait trop important...\n",
    "\n",
    "Normalement, seul un hash de votre mot de passe est enregistré sur un ordinateur : un **hash** est une suite de caractères de taille fixe associée à une chaîne quelconque. Par exemple, le hash (pour l'algorithme **sha1**) de la chaîne *«vive la crypto !»* :\n",
    "\n",
    "```\n",
    "echo vive la crypto ! | shasum\n",
    "```\n",
    "\n",
    "donne :\n",
    "\n",
    "```\n",
    "f1b3fcc80d96d16630f2ae0fc35c529a27d91540  -\n",
    "```\n",
    "\n",
    "Maintenant pour la chaîne *«**V**ive la crypto !»* (seule la première lettre a changé) :\n",
    "\n",
    "```\n",
    "echo Vive la crypto ! | shasum\n",
    "```\n",
    "\n",
    "donne :\n",
    "\n",
    "```\n",
    "573ecf065e1db92008f6de6081d7d88dd32ba001  -\n",
    "```\n",
    "\n",
    "Les fonctions de hash utilisées en cryptographie sont toujours faciles (rapide) à calculer, mais elles doivent vérifier les propriétés suivantes :\n",
    "\n",
    "- il est très difficile de trouver une chaîne ayant un hash donné,\n",
    "- il est très difficile de modifier une chaîne sans modifier son hash,\n",
    "- il est très difficile de trouver deux chaînes avec le même hash.\n",
    "\n",
    "Les algorithmes de hashage les plus connus sont :\n",
    "\n",
    "- md5 (mais cet algorithme n'est plus sûr)\n",
    "- sha1,\n",
    "- sha256 / sha512\n",
    "\n",
    "Pour vous authentifier sur un site, vous tapez votre mot de passe, et le programme vérifie que son hash est bien identique au hash stocké sur le serveur...\n"
   ]
  },
  {
   "cell_type": "markdown",
   "id": "7763535c",
   "metadata": {},
   "source": [
    "__Question 1__ :\n",
    "\n",
    "Expliquez pourquoi il n'est pas possible, même pour l'administrateur du serveur, de retrouver votre mot de passe en cas de perte..."
   ]
  },
  {
   "attachments": {},
   "cell_type": "markdown",
   "id": "48f38612",
   "metadata": {},
   "source": [
    "__Réponse__ :\n",
    "\n",
    "*car pour chaque mod de passe il y a un hash différent donc si on pert le hash d'un fichier ou d'un mot de passe on ne peut pas rcuperer le fichier decrypter*"
   ]
  },
  {
   "cell_type": "markdown",
   "id": "269eb201",
   "metadata": {},
   "source": [
    "### 2. Attaque par dictionnaire"
   ]
  },
  {
   "cell_type": "markdown",
   "id": "e9cf4c54",
   "metadata": {},
   "source": [
    "Si on possède le hash d'un mot de passe, on peut essayer de retrouver le mot de passe en essayant toutes les possibilités.\n",
    "\n",
    "En général, il est intéressant de commencer par les mots du dictionnaire. Le fichier [`dico.txt`](dico.txt) contient les mots du dictionnaire \"le Littré\" qui ne contiennent pas d'accent. Il contient 47666 mots.\n",
    "\n",
    "Le code Python suivant permet de tester tous les mots de ce fichier et de comparer leur hash avec un hash passé en argument :"
   ]
  },
  {
   "cell_type": "code",
   "execution_count": null,
   "id": "7a319475",
   "metadata": {},
   "outputs": [
    {
     "ename": "",
     "evalue": "",
     "output_type": "error",
     "traceback": [
      "\u001b[1;31mLes cellules en cours d’exécution avec /usr/bin/python3 nécessitent ipykernel package.\n",
      "\u001b[1;31mExécutez la commande suivante pour installer 'ipykernel' dans l’environnement Python. \n",
      "\u001b[1;31mCommande : '/usr/bin/python3 -m pip install ipykernel -U --user --force-reinstall'"
     ]
    }
   ],
   "source": [
    "import hashlib\n",
    "from datetime import datetime\n",
    "\n",
    "def attaque_dico_hash(h, dic):\n",
    "    dico = open(dic, mode=\"r\")\n",
    "    n = 0 # pour compter le nombre de mots\n",
    "    t0 = datetime.now() # l'heure a l'instant prasent\n",
    " \n",
    "    for mot in dico:\n",
    "        mot = mot.strip()\n",
    "        n=n+1\n",
    "\n",
    "        if hashlib.sha256(mot.encode()).hexdigest() == h:\n",
    "            print()\n",
    "            print(\"TROUVE ! Le mot '{}' a le hash {},\".format(mot,h))\n",
    "            print(\"{} mot(s) ont etes testes en {} seconde(s).\".format(n, (datetime.now()- t0).total_seconds()))\n",
    "            dico.close()\n",
    "            return\n",
    "\n",
    "        if n % 1000 == 0:\n",
    "            print(\".\", end=\" \")\n",
    "\n",
    "    print()\n",
    "    print(\"{} mot(s) ont étés testes en {} seconde(s),\".format(n, (datetime.now()-t0).total_seconds()))\n",
    "    print(\"Aucun des mots testes n'avait le hash {}.\".format(h))\n",
    "attaque_dico_hash(\"2c6ed1182b4176016ebb10fdc541e61c92c45c8d37e04ec8481a5d398b6e460e\", \"dico.txt\")"
   ]
  },
  {
   "cell_type": "markdown",
   "id": "1f2893d3",
   "metadata": {},
   "source": [
    "__Question 2__ :\n",
    "\n",
    "Utilisez le programme pour retrouver le mot caché derrière ce hash :\n",
    "\n",
    "```\n",
    " 2c6ed1182b4176016ebb10fdc541e61c92c45c8d37e04ec8481a5d398b6e460e\n",
    "```\n",
    "\n",
    "en utilisant le dictionnaire [`dico.txt`](dico.txt)."
   ]
  },
  {
   "attachments": {},
   "cell_type": "markdown",
   "id": "8e6afda2",
   "metadata": {},
   "source": [
    "__Réponse__ :\n",
    "\n",
    "*TROUVE ! Le mot 'programme' a le hash 2c6ed1182b4176016ebb10fdc541e61c92c45c8d37e04ec8481a5d398b6e460e,\n",
    "35503 mot(s) ont etes testes en 0.057451 seconde(s).*"
   ]
  },
  {
   "cell_type": "markdown",
   "id": "e80c70fa",
   "metadata": {},
   "source": [
    "### 3. Attaque par force brute"
   ]
  },
  {
   "cell_type": "markdown",
   "id": "740c2ba3",
   "metadata": {},
   "source": [
    "Nous allons maintenant tester tous les mots de passe d'une taille donnée. Pour les mots de passe sur 3 lettres, cela pourrait donner:"
   ]
  },
  {
   "cell_type": "code",
   "execution_count": null,
   "id": "1fb4f37a",
   "metadata": {},
   "outputs": [],
   "source": [
    "import hashlib\n",
    "from datetime import datetime\n",
    "\n",
    "def attaque_brute_force_hash(h):\n",
    "    n = 0 # pour compter le nombre de mots\n",
    "    t0 = datetime.now() # l'heure à l'instant présent \n",
    "    alphabet = \"abcdefghijklmnopqrstuvwxyz\"\n",
    "    \n",
    "    for a in alphabet: \n",
    "        for b in alphabet:\n",
    "            for c in alphabet: \n",
    "                mot = a+b+c \n",
    "                n=n+1\n",
    "                \n",
    "                if hashlib.sha256(mot.encode()).hexdigest() == h: \n",
    "                    print()\n",
    "                    print(\"TROUVÉ ! '{}' a le hash {},\".format(mot,h))\n",
    "                    print(\"{} mot(s) ont étés testés en {} seconde(s).\".format(n, (datetime.now()-t0).total_seconds())) \n",
    "                    return\n",
    "                \n",
    "                if n % 1000 == 0: \n",
    "                    print(\".\", end=\"\")\n",
    "                    \n",
    "    print()\n",
    "    print(\"{} mot(s) ont étés testés en {} seconde(s),\".format(n, (datetime.now()-t0).total_seconds())) \n",
    "    print(\"Aucun des mots testés n'avait le hash {}.\".format(h))"
   ]
  },
  {
   "cell_type": "markdown",
   "id": "6d99d528",
   "metadata": {},
   "source": [
    "__Question 3 :__\n",
    "    \n",
    "Utilisez ce programme pour retrouver le mot de passe de trois lettres caché derrière ce hash :\n",
    "```\n",
    "07123e1f482356c415f684407a3b8723e10b2cbbc0b8fcd6282c49d37c9c1abc\n",
    "```"
   ]
  },
  {
   "cell_type": "code",
   "execution_count": null,
   "id": "47ecd486",
   "metadata": {},
   "outputs": [],
   "source": [
    "TROUVÉ ! 'lol' a le hash 07123e1f482356c415f684407a3b8723e10b2cbbc0b8fcd6282c49d37c9c1abc,\n",
    "7812 mot(s) ont étés testés en 0.016836 seconde(s)."
   ]
  }
 ],
 "metadata": {
  "kernelspec": {
   "display_name": "Python 3.8.9 64-bit",
   "language": "python",
   "name": "python3"
  },
  "language_info": {
   "codemirror_mode": {
    "name": "ipython",
    "version": 3
   },
   "file_extension": ".py",
   "mimetype": "text/x-python",
   "name": "python",
   "nbconvert_exporter": "python",
   "pygments_lexer": "ipython3",
   "version": "3.8.10 (default, Nov 14 2022, 12:59:47) \n[GCC 9.4.0]"
  },
  "vscode": {
   "interpreter": {
    "hash": "31f2aee4e71d21fbe5cf8b01ff0e069b9275f58929596ceb00d14d90e3e16cd6"
   }
  }
 },
 "nbformat": 4,
 "nbformat_minor": 5
}
